{
 "cells": [
  {
   "cell_type": "markdown",
   "metadata": {},
   "source": [
    "## 기본 합성곱 신경망 구현"
   ]
  },
  {
   "cell_type": "code",
   "execution_count": 34,
   "metadata": {},
   "outputs": [],
   "source": [
    "import tensorflow as tf\n",
    "import numpy as np"
   ]
  },
  {
   "cell_type": "markdown",
   "metadata": {},
   "source": [
    "## 하이퍼 파라미터"
   ]
  },
  {
   "cell_type": "code",
   "execution_count": 35,
   "metadata": {},
   "outputs": [],
   "source": [
    "EPOCHS = 2"
   ]
  },
  {
   "cell_type": "markdown",
   "metadata": {},
   "source": [
    "## 모델 정의"
   ]
  },
  {
   "cell_type": "code",
   "execution_count": 36,
   "metadata": {},
   "outputs": [],
   "source": [
    "class ConvNet(tf.keras.Model): #convolutional Neural Network\n",
    "    def __init__(self):\n",
    "        super(ConvNet, self).__init__()\n",
    "        conv2d=tf.keras.layers.Conv2D\n",
    "        maxpool=tf.keras.layers.MaxPool2D\n",
    "        self.sequence=list()\n",
    "        self.sequence.append(conv2d(16,(3,3),padding='same',activation='relu'))#28x28x16 출력\n",
    "        self.sequence.append(conv2d(16,(3,3),padding='same',activation='relu'))\n",
    "        self.sequence.append(maxpool((2,2))) #14x14x16\n",
    "        self.sequence.append(conv2d(32,(3,3),padding='same',activation='relu'))#14x14x32 출력\n",
    "        self.sequence.append(conv2d(32,(3,3),padding='same',activation='relu'))\n",
    "        self.sequence.append(maxpool((2,2))) #7 x 7 x 32\n",
    "        self.sequence.append(conv2d(64,(3,3),padding='same',activation='relu'))#7 x 7 x 64 출력\n",
    "        self.sequence.append(conv2d(64,(3,3),padding='same',activation='relu'))\n",
    "        self.sequence.append(tf.keras.layers.Flatten()) # 7x7x64를 길쭉하게 하나의 벡터로 만든다.  1568개의 feature vector\n",
    "        self.sequence.append(tf.keras.layers.Dense(128,activation='relu'))\n",
    "        self.sequence.append(tf.keras.layers.Dense(10,activation='softmax'))\n",
    "    def call(self, x, training=False, mask=None): #시퀀스의 레이어들을 모두 순회하면서\n",
    "        for layer in self.sequence: #입력을 출력으로 계속해서 연결해줘서 최종 출력까지 내준다.\n",
    "            x=layer(x)\n",
    "        return x"
   ]
  },
  {
   "cell_type": "markdown",
   "metadata": {},
   "source": [
    "## 학습, 테스트 루프 정의"
   ]
  },
  {
   "cell_type": "code",
   "execution_count": 37,
   "metadata": {},
   "outputs": [],
   "source": [
    "# Implement training loop\n",
    "@tf.function\n",
    "def train_step(model, images, labels, loss_object, optimizer, train_loss, train_accuracy):\n",
    "    with tf.GradientTape() as tape:\n",
    "        predictions = model(images)\n",
    "        loss = loss_object(labels, predictions)\n",
    "    gradients = tape.gradient(loss, model.trainable_variables)\n",
    "\n",
    "    optimizer.apply_gradients(zip(gradients, model.trainable_variables))\n",
    "    train_loss(loss)\n",
    "    train_accuracy(labels, predictions)\n",
    "\n",
    "# Implement algorithm test\n",
    "@tf.function\n",
    "def test_step(model, images, labels, loss_object, test_loss, test_accuracy):\n",
    "    predictions = model(images)\n",
    "\n",
    "    t_loss = loss_object(labels, predictions)\n",
    "    test_loss(t_loss)\n",
    "    test_accuracy(labels, predictions)"
   ]
  },
  {
   "cell_type": "markdown",
   "metadata": {},
   "source": [
    "## 데이터셋 준비  \n",
    "keras에 제공하는 mninst dataset을 그대로 사용해 보겠습니다.  \n",
    "mnist 데이터셋을 케라스 데이터 셋 API로 부터 받아와서 mnist 데이터를 x train xtest 로 받아주고, train과 test를 가능한 곱하기 채널이 붙은 형태로 바꾸어준다.  \n",
    "처음 들어오는 x_train같은 경우는 데이터 샘플 개수에다가 28 x 28 이런 3차원 텐서형태로 되어있다. 하지만 이거를 28  끝에 1을 붙여주어야지된다. 만약 2차원이아니라 3차원까지 채널을 추가해야 컨벌루션 레이어에서 제대로 동작을 합니다. \n"
   ]
  },
  {
   "cell_type": "code",
   "execution_count": 38,
   "metadata": {},
   "outputs": [],
   "source": [
    "mnist=tf.keras.datasets.mnist\n",
    "(x_train,y_train),(x_test,y_test)=mnist.load_data()\n",
    "x_train,x_test=x_train/255.0,x_test/255.0\n",
    "\n",
    "# x_train:(NUM_SAMPLE,28,28)->(NUM_SAMPLE,28,28,1) 끝에 1을 붙여주는 이유는 2차원이아닌 3차원의 채널까지 추가해줘야 1채널이라는 영상을 알려준다.\n",
    "x_train=x_train[...,tf.newaxis].astype(np.float32) #...은 train에 있는 모든 axis를 표현한 것입니다. [:,:,:]와 동일합니다.\n",
    "x_test=x_test[...,tf.newaxis].astype(np.float32)\n",
    "\n",
    "train_ds=tf.data.Dataset.from_tensor_slices((x_train,y_train)).shuffle(10000).batch(32)\n",
    "test_ds=tf.data.Dataset.from_tensor_slices((x_test,y_test)).batch(32)\n"
   ]
  },
  {
   "cell_type": "markdown",
   "metadata": {},
   "source": []
  },
  {
   "cell_type": "markdown",
   "metadata": {},
   "source": [
    "## 학습 환경 정의\n",
    "### 모델 생성, 손실함수, 최적화 알고리즘, 평가지표 정의"
   ]
  },
  {
   "cell_type": "code",
   "execution_count": 39,
   "metadata": {},
   "outputs": [],
   "source": [
    "# Create model\n",
    "model = ConvNet()\n",
    "\n",
    "# Define loss and optimizer\n",
    "loss_object = tf.keras.losses.SparseCategoricalCrossentropy()\n",
    "optimizer = tf.keras.optimizers.Adam()\n",
    "\n",
    "# Define performance metrics\n",
    "train_loss = tf.keras.metrics.Mean(name='train_loss')\n",
    "train_accuracy = tf.keras.metrics.SparseCategoricalAccuracy(name='train_accuracy')\n",
    "\n",
    "test_loss = tf.keras.metrics.Mean(name='test_loss')\n",
    "test_accuracy = tf.keras.metrics.SparseCategoricalAccuracy(name='test_accuracy')"
   ]
  },
  {
   "cell_type": "markdown",
   "metadata": {},
   "source": [
    "## 학습 루프 동작"
   ]
  },
  {
   "cell_type": "code",
   "execution_count": 40,
   "metadata": {},
   "outputs": [
    {
     "name": "stdout",
     "output_type": "stream",
     "text": [
      "Epoch 1, Loss: 0.12366034835577011, Accuracy: 96.19499969482422, Test Loss: 0.09190717339515686, Test Accuracy: 97.1199951171875\n",
      "Epoch 2, Loss: 0.04430900886654854, Accuracy: 98.65499877929688, Test Loss: 0.031078368425369263, Test Accuracy: 99.01000213623047\n"
     ]
    }
   ],
   "source": [
    "for epoch in range(EPOCHS):\n",
    "    for images, labels in train_ds:\n",
    "        train_step(model, images, labels, loss_object, optimizer, train_loss, train_accuracy)\n",
    "\n",
    "    for test_images, test_labels in test_ds:\n",
    "        test_step(model, test_images, test_labels, loss_object, test_loss, test_accuracy)\n",
    "\n",
    "    template = 'Epoch {}, Loss: {}, Accuracy: {}, Test Loss: {}, Test Accuracy: {}'\n",
    "    print(template.format(epoch + 1,\n",
    "                          train_loss.result(),\n",
    "                          train_accuracy.result() * 100,\n",
    "                          test_loss.result(),\n",
    "                          test_accuracy.result() * 100))\n",
    "    train_loss.reset_states()\n",
    "    train_accuracy.reset_states()\n",
    "    test_loss.reset_states()\n",
    "    test_accuracy.reset_states()"
   ]
  },
  {
   "cell_type": "code",
   "execution_count": null,
   "metadata": {},
   "outputs": [],
   "source": []
  }
 ],
 "metadata": {
  "kernelspec": {
   "display_name": "Python 3",
   "language": "python",
   "name": "python3"
  },
  "language_info": {
   "codemirror_mode": {
    "name": "ipython",
    "version": 3
   },
   "file_extension": ".py",
   "mimetype": "text/x-python",
   "name": "python",
   "nbconvert_exporter": "python",
   "pygments_lexer": "ipython3",
   "version": "3.8.5"
  }
 },
 "nbformat": 4,
 "nbformat_minor": 2
}
