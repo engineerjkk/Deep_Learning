{
 "cells": [
  {
   "cell_type": "markdown",
   "metadata": {},
   "source": [
    "## DenseNetwork 구현 및 학습  \n",
    "resNet을 잘계승하고 있는 Modern한 알고리즘 입니다.  \n",
    "그렇다고 무조건 denseNet이 좋은것은 하닙니다. 어떤것은 resNet이 어떤것은 denseNet이 적합합니다.  \n",
    "실제로도 resNet은 학습이 안정적으로 적용되는 반면 densNet은 값이 흔들립니다."
   ]
  },
  {
   "cell_type": "code",
   "execution_count": 7,
   "metadata": {},
   "outputs": [],
   "source": [
    "import tensorflow as tf\n",
    "import numpy as np"
   ]
  },
  {
   "cell_type": "markdown",
   "metadata": {},
   "source": [
    "## 하이퍼 파라미터"
   ]
  },
  {
   "cell_type": "code",
   "execution_count": 8,
   "metadata": {},
   "outputs": [],
   "source": [
    "EPOCHS = 10"
   ]
  },
  {
   "cell_type": "markdown",
   "metadata": {},
   "source": [
    "## Dense Unit 구현"
   ]
  },
  {
   "cell_type": "code",
   "execution_count": 16,
   "metadata": {},
   "outputs": [],
   "source": [
    "class DenseUnit(tf.keras.Model):\n",
    "    def __init__(self, filter_out, kernel_size):\n",
    "        super(DenseUnit, self).__init__()\n",
    "        self.bn=tf.keras.layers.BatchNormalization()\n",
    "        self.conv=tf.keras.layers.Conv2D(filter_out,kernel_size,padding='same')\n",
    "        self.concat=tf.keras.layers.Concatenate()\n",
    "\n",
    "    def call(self, x, training=False, mask=None): #x:(Batch,H,W,Ch_in)\n",
    "        h=self.bn(x,training=training)\n",
    "        h=tf.nn.relu(h)\n",
    "        h=self.conv(h) # h: (Batch,H,W,filter_ouutput)\n",
    "        return self.concat([x,h])#(Batch,H,W,Ch_in+filter_output))"
   ]
  },
  {
   "cell_type": "markdown",
   "metadata": {},
   "source": [
    "## DenseLayer 구현  \n",
    "여기서 growth_rate는 dense unit이 한번 콜이 될 때마다 input 채널에서 output 필터 개수만큼 점점 커지기 때문에 커지는 특성을 growth rate라고 표현한다."
   ]
  },
  {
   "cell_type": "code",
   "execution_count": 17,
   "metadata": {},
   "outputs": [],
   "source": [
    "class DenseLayer(tf.keras.Model):\n",
    "    def __init__(self, num_unit, growth_rate, kernel_size):\n",
    "        super(DenseLayer, self).__init__()\n",
    "        self.sequence=list()\n",
    "        for idx in range(num_unit):\n",
    "            self.sequence.append(DenseUnit(growth_rate,kernel_size))\n",
    "\n",
    "    def call(self, x, training=False, mask=None):\n",
    "        for unit in self.sequence:\n",
    "            x=unit(x, training=training)\n",
    "        return x"
   ]
  },
  {
   "cell_type": "markdown",
   "metadata": {},
   "source": [
    "## Transition Layer 구현"
   ]
  },
  {
   "cell_type": "code",
   "execution_count": 18,
   "metadata": {},
   "outputs": [],
   "source": [
    "class TransitionLayer(tf.keras.Model):\n",
    "    def __init__(self, filters, kernel_size):\n",
    "        super(TransitionLayer, self).__init__()\n",
    "        self.conv=tf.keras.layers.Conv2D(filters,kernel_size,padding='same')\n",
    "        self.pool=tf.keras.layers.MaxPool2D()\n",
    "\n",
    "    def call(self, x, training=False, mask=None):\n",
    "        x=self.conv(x)\n",
    "        return self.pool(x)"
   ]
  },
  {
   "cell_type": "markdown",
   "metadata": {},
   "source": [
    "## 모델 정의"
   ]
  },
  {
   "cell_type": "code",
   "execution_count": 19,
   "metadata": {},
   "outputs": [],
   "source": [
    "class DenseNet(tf.keras.Model):\n",
    "    def __init__(self):\n",
    "        super(DenseNet, self).__init__()\n",
    "        self.conv1=tf.keras.layers.Conv2D(8,(3,3),padding='same',activation='relu')\n",
    "        \n",
    "        self.dl1=DenseLayer(2,4,(3,3))#28x28x16\n",
    "        self.tr1=TransitionLayer(16,(3,3))#14x14x16\n",
    "        \n",
    "        self.dl2=DenseLayer(2,8,(3,3))#14x14x16\n",
    "        self.tr2=TransitionLayer(32,(3,3))#7x7x32\n",
    "        \n",
    "        self.dl3=DenseLayer(2,16,(3,3))#7x7x64        \n",
    "        \n",
    "        self.flatten=tf.keras.layers.Flatten()\n",
    "        self.dense1=tf.keras.layers.Dense(128,activation='relu')\n",
    "        self.dense2=tf.keras.layers.Dense(10,activation='softmax')\n",
    "        \n",
    "        \n",
    "    def call(self, x, training=False, mask=None):\n",
    "        x=self.conv1(x)\n",
    "        \n",
    "        x=self.dl1(x,training=training)\n",
    "        x=self.tr1(x)\n",
    "        \n",
    "        x=self.dl2(x,training=training)\n",
    "        x=self.tr2(x)\n",
    "        \n",
    "        x=self.dl3(x)\n",
    "        \n",
    "        x= self.flatten(x)\n",
    "        x=self.dense1(x)\n",
    "        return self.dense2(x)\n",
    "        "
   ]
  },
  {
   "cell_type": "markdown",
   "metadata": {},
   "source": [
    "## 학습, 테스트 루프 정의"
   ]
  },
  {
   "cell_type": "code",
   "execution_count": 20,
   "metadata": {},
   "outputs": [],
   "source": [
    "# Implement training loop\n",
    "@tf.function\n",
    "def train_step(model, images, labels, loss_object, optimizer, train_loss, train_accuracy):\n",
    "    with tf.GradientTape() as tape:\n",
    "        predictions = model(images,training=True)\n",
    "        loss = loss_object(labels, predictions)\n",
    "    gradients = tape.gradient(loss, model.trainable_variables)\n",
    "\n",
    "    optimizer.apply_gradients(zip(gradients, model.trainable_variables))\n",
    "    train_loss(loss)\n",
    "    train_accuracy(labels, predictions)\n",
    "\n",
    "# Implement algorithm test\n",
    "@tf.function\n",
    "def test_step(model, images, labels, loss_object, test_loss, test_accuracy):\n",
    "    predictions = model(images,training=False)\n",
    "\n",
    "    t_loss = loss_object(labels, predictions)\n",
    "    test_loss(t_loss)\n",
    "    test_accuracy(labels, predictions)"
   ]
  },
  {
   "cell_type": "markdown",
   "metadata": {},
   "source": [
    "## 데이터셋 준비\n"
   ]
  },
  {
   "cell_type": "code",
   "execution_count": 21,
   "metadata": {},
   "outputs": [],
   "source": [
    "mnist = tf.keras.datasets.mnist\n",
    "\n",
    "(x_train, y_train), (x_test, y_test) = mnist.load_data()\n",
    "x_train, x_test = x_train / 255.0, x_test / 255.0\n",
    "\n",
    "x_train = x_train[..., tf.newaxis].astype(np.float32)\n",
    "x_test = x_test[..., tf.newaxis].astype(np.float32)\n",
    "\n",
    "train_ds = tf.data.Dataset.from_tensor_slices((x_train, y_train)).shuffle(10000).batch(32)\n",
    "test_ds = tf.data.Dataset.from_tensor_slices((x_test, y_test)).batch(32)"
   ]
  },
  {
   "cell_type": "markdown",
   "metadata": {},
   "source": [
    "## 학습 환경 정의\n",
    "### 모델 생성, 손실함수, 최적화 알고리즘, 평가지표 정의"
   ]
  },
  {
   "cell_type": "code",
   "execution_count": 22,
   "metadata": {},
   "outputs": [],
   "source": [
    "# Create model\n",
    "model = DenseNet()\n",
    "\n",
    "# Define loss and optimizer\n",
    "loss_object = tf.keras.losses.SparseCategoricalCrossentropy()\n",
    "optimizer = tf.keras.optimizers.Adam()\n",
    "\n",
    "# Define performance metrics\n",
    "train_loss = tf.keras.metrics.Mean(name='train_loss')\n",
    "train_accuracy = tf.keras.metrics.SparseCategoricalAccuracy(name='train_accuracy')\n",
    "\n",
    "test_loss = tf.keras.metrics.Mean(name='test_loss')\n",
    "test_accuracy = tf.keras.metrics.SparseCategoricalAccuracy(name='test_accuracy')"
   ]
  },
  {
   "cell_type": "markdown",
   "metadata": {},
   "source": [
    "## 학습 루프 동작"
   ]
  },
  {
   "cell_type": "code",
   "execution_count": 23,
   "metadata": {},
   "outputs": [
    {
     "name": "stdout",
     "output_type": "stream",
     "text": [
      "Epoch 1, Loss: 0.11651317775249481, Accuracy: 96.63833618164062, Test Loss: 0.12777933478355408, Test Accuracy: 96.5\n",
      "Epoch 2, Loss: 0.05911349505186081, Accuracy: 98.2933349609375, Test Loss: 0.08135871589183807, Test Accuracy: 98.00999450683594\n",
      "Epoch 3, Loss: 0.046942953020334244, Accuracy: 98.7249984741211, Test Loss: 0.05912934988737106, Test Accuracy: 98.25999450683594\n",
      "Epoch 4, Loss: 0.04083023592829704, Accuracy: 98.875, Test Loss: 0.06964223831892014, Test Accuracy: 98.22000122070312\n",
      "Epoch 5, Loss: 0.03901837393641472, Accuracy: 98.9383316040039, Test Loss: 0.056346096098423004, Test Accuracy: 98.7699966430664\n",
      "Epoch 6, Loss: 0.03419676050543785, Accuracy: 99.1199951171875, Test Loss: 0.0459163524210453, Test Accuracy: 98.8699951171875\n",
      "Epoch 7, Loss: 0.025894753634929657, Accuracy: 99.31832885742188, Test Loss: 0.06836067885160446, Test Accuracy: 98.44999694824219\n",
      "Epoch 8, Loss: 0.029866192489862442, Accuracy: 99.24166870117188, Test Loss: 0.058431558310985565, Test Accuracy: 98.88999938964844\n",
      "Epoch 9, Loss: 0.026792656630277634, Accuracy: 99.35832977294922, Test Loss: 0.05089063197374344, Test Accuracy: 98.75\n",
      "Epoch 10, Loss: 0.021424347534775734, Accuracy: 99.47000122070312, Test Loss: 0.0635942816734314, Test Accuracy: 98.94000244140625\n"
     ]
    }
   ],
   "source": [
    "for epoch in range(EPOCHS):\n",
    "    for images, labels in train_ds:\n",
    "        train_step(model, images, labels, loss_object, optimizer, train_loss, train_accuracy)\n",
    "\n",
    "    for test_images, test_labels in test_ds:\n",
    "        test_step(model, test_images, test_labels, loss_object, test_loss, test_accuracy)\n",
    "\n",
    "    template = 'Epoch {}, Loss: {}, Accuracy: {}, Test Loss: {}, Test Accuracy: {}'\n",
    "    print(template.format(epoch + 1,\n",
    "                          train_loss.result(),\n",
    "                          train_accuracy.result() * 100,\n",
    "                          test_loss.result(),\n",
    "                          test_accuracy.result() * 100))\n",
    "    train_loss.reset_states()\n",
    "    train_accuracy.reset_states()\n",
    "    test_loss.reset_states()\n",
    "    test_accuracy.reset_states()"
   ]
  },
  {
   "cell_type": "code",
   "execution_count": null,
   "metadata": {},
   "outputs": [],
   "source": []
  }
 ],
 "metadata": {
  "kernelspec": {
   "display_name": "Python 3",
   "language": "python",
   "name": "python3"
  },
  "language_info": {
   "codemirror_mode": {
    "name": "ipython",
    "version": 3
   },
   "file_extension": ".py",
   "mimetype": "text/x-python",
   "name": "python",
   "nbconvert_exporter": "python",
   "pygments_lexer": "ipython3",
   "version": "3.8.5"
  }
 },
 "nbformat": 4,
 "nbformat_minor": 2
}
